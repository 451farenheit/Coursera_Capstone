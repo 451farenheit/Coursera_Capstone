{
    "cells": [
        {
            "cell_type": "markdown",
            "metadata": {
                "collapsed": true
            },
            "source": "# Introduction/Business Problem "
        },
        {
            "cell_type": "markdown",
            "metadata": {},
            "source": "This project aims to help while opening a new restaurant in Terrassa, my city. <br>\nIt will do so by two means:<br>\n - Firstly, showing the distribution of restaurants in Terrassa\n - Also, showing the common restaurant categories by neighborhood\n\nThis two informations can be useful to minimize concurrence of other restaurants geographically and<br>\nand to choose the theme of the restaurant; adding a new one to an upcoming trend or opening a new<br>\nkind of restaurant in a neighborhood.<br>"
        },
        {
            "cell_type": "code",
            "execution_count": null,
            "metadata": {},
            "outputs": [],
            "source": ""
        }
    ],
    "metadata": {
        "kernelspec": {
            "display_name": "Python 3.7",
            "language": "python",
            "name": "python3"
        },
        "language_info": {
            "codemirror_mode": {
                "name": "ipython",
                "version": 3
            },
            "file_extension": ".py",
            "mimetype": "text/x-python",
            "name": "python",
            "nbconvert_exporter": "python",
            "pygments_lexer": "ipython3",
            "version": "3.7.9"
        }
    },
    "nbformat": 4,
    "nbformat_minor": 1
}