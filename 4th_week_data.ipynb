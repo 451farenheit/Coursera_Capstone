{
    "cells": [
        {
            "cell_type": "markdown",
            "metadata": {
                "collapsed": true
            },
            "source": "# Data"
        },
        {
            "cell_type": "markdown",
            "metadata": {},
            "source": "To achieve the goals described in the introduction, some datasets are required, mainly: <br>\n - Geographic data of Terrasa i.e its location, its neighborhoods and boroughs\n - Latitude and longitude of the restaurants of Terrassa\n - The category of the restaurants, i.e italian food, sushi place, etc.\n\nFolium will be used to generate maps.<br>\nNominatim will be used to fetch the location of Terrassa in the map<br>\nFoursquare will yield the venues in the desired neighborhoods.<br>\nThe venues have to be filtered to the ones containing \"Restaurant in their names.<br>\nKmeans will cluster the neighborhoods following their most common restaurants.<br>"
        },
        {
            "cell_type": "code",
            "execution_count": null,
            "metadata": {},
            "outputs": [],
            "source": ""
        }
    ],
    "metadata": {
        "kernelspec": {
            "display_name": "Python 3.7",
            "language": "python",
            "name": "python3"
        },
        "language_info": {
            "codemirror_mode": {
                "name": "ipython",
                "version": 3
            },
            "file_extension": ".py",
            "mimetype": "text/x-python",
            "name": "python",
            "nbconvert_exporter": "python",
            "pygments_lexer": "ipython3",
            "version": "3.7.9"
        }
    },
    "nbformat": 4,
    "nbformat_minor": 1
}